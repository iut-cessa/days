{
 "cells": [
  {
   "cell_type": "markdown",
   "metadata": {},
   "source": [
    "# Predicting the Winner of El Clasico #236 (2017 Dec. 26)\n",
    "\n",
    "This notebook presented before the el clasico #236 at Isfahan University of Technology for \"El Clasico Day\"\n",
    "\n",
    "by Alireza Omidi | [Github](https://github.com/alirezaomidi) [Linkedin](linkedin.com/in/aomidi)\n",
    "\n",
    "based on [Siraj Raval's work](https://github.com/llSourcell/Predicting_Winning_Teams)"
   ]
  },
  {
   "cell_type": "markdown",
   "metadata": {},
   "source": [
    "## Import Dependencies"
   ]
  },
  {
   "cell_type": "code",
   "execution_count": 1,
   "metadata": {},
   "outputs": [],
   "source": [
    "import pandas as pd\n",
    "from sklearn.ensemble import RandomForestClassifier\n",
    "from sklearn.svm import SVC\n",
    "from IPython.display import display\n",
    "from matplotlib import pyplot as plt\n",
    "%matplotlib inline"
   ]
  },
  {
   "cell_type": "markdown",
   "metadata": {},
   "source": [
    "## Loading Data"
   ]
  },
  {
   "cell_type": "code",
   "execution_count": 2,
   "metadata": {},
   "outputs": [
    {
     "data": {
      "text/html": [
       "<div>\n",
       "<style>\n",
       "    .dataframe thead tr:only-child th {\n",
       "        text-align: right;\n",
       "    }\n",
       "\n",
       "    .dataframe thead th {\n",
       "        text-align: left;\n",
       "    }\n",
       "\n",
       "    .dataframe tbody tr th {\n",
       "        vertical-align: top;\n",
       "    }\n",
       "</style>\n",
       "<table border=\"1\" class=\"dataframe\">\n",
       "  <thead>\n",
       "    <tr style=\"text-align: right;\">\n",
       "      <th></th>\n",
       "      <th>Date</th>\n",
       "      <th>HomeTeam</th>\n",
       "      <th>AwayTeam</th>\n",
       "      <th>FTHG</th>\n",
       "      <th>FTAG</th>\n",
       "      <th>FTR</th>\n",
       "      <th>HTGS</th>\n",
       "      <th>ATGS</th>\n",
       "      <th>HTGC</th>\n",
       "      <th>ATGC</th>\n",
       "      <th>...</th>\n",
       "      <th>HTLossStreak3</th>\n",
       "      <th>HTLossStreak5</th>\n",
       "      <th>ATWinStreak3</th>\n",
       "      <th>ATWinStreak5</th>\n",
       "      <th>ATLossStreak3</th>\n",
       "      <th>ATLossStreak5</th>\n",
       "      <th>HTGD</th>\n",
       "      <th>ATGD</th>\n",
       "      <th>DiffPts</th>\n",
       "      <th>DiffFormPts</th>\n",
       "    </tr>\n",
       "  </thead>\n",
       "  <tbody>\n",
       "    <tr>\n",
       "      <th>0</th>\n",
       "      <td>2000-09-09</td>\n",
       "      <td>Barcelona</td>\n",
       "      <td>Malaga</td>\n",
       "      <td>2.0</td>\n",
       "      <td>1.0</td>\n",
       "      <td>H</td>\n",
       "      <td>0</td>\n",
       "      <td>0</td>\n",
       "      <td>0</td>\n",
       "      <td>0</td>\n",
       "      <td>...</td>\n",
       "      <td>0</td>\n",
       "      <td>0</td>\n",
       "      <td>0</td>\n",
       "      <td>0</td>\n",
       "      <td>0</td>\n",
       "      <td>0</td>\n",
       "      <td>0.0</td>\n",
       "      <td>0.0</td>\n",
       "      <td>0.0</td>\n",
       "      <td>0.0</td>\n",
       "    </tr>\n",
       "    <tr>\n",
       "      <th>1</th>\n",
       "      <td>2000-09-09</td>\n",
       "      <td>La Coruna</td>\n",
       "      <td>Ath Bilbao</td>\n",
       "      <td>2.0</td>\n",
       "      <td>0.0</td>\n",
       "      <td>H</td>\n",
       "      <td>0</td>\n",
       "      <td>0</td>\n",
       "      <td>0</td>\n",
       "      <td>0</td>\n",
       "      <td>...</td>\n",
       "      <td>0</td>\n",
       "      <td>0</td>\n",
       "      <td>0</td>\n",
       "      <td>0</td>\n",
       "      <td>0</td>\n",
       "      <td>0</td>\n",
       "      <td>0.0</td>\n",
       "      <td>0.0</td>\n",
       "      <td>0.0</td>\n",
       "      <td>0.0</td>\n",
       "    </tr>\n",
       "    <tr>\n",
       "      <th>2</th>\n",
       "      <td>2000-09-09</td>\n",
       "      <td>Real Madrid</td>\n",
       "      <td>Valencia</td>\n",
       "      <td>2.0</td>\n",
       "      <td>1.0</td>\n",
       "      <td>H</td>\n",
       "      <td>0</td>\n",
       "      <td>0</td>\n",
       "      <td>0</td>\n",
       "      <td>0</td>\n",
       "      <td>...</td>\n",
       "      <td>0</td>\n",
       "      <td>0</td>\n",
       "      <td>0</td>\n",
       "      <td>0</td>\n",
       "      <td>0</td>\n",
       "      <td>0</td>\n",
       "      <td>0.0</td>\n",
       "      <td>0.0</td>\n",
       "      <td>0.0</td>\n",
       "      <td>0.0</td>\n",
       "    </tr>\n",
       "    <tr>\n",
       "      <th>3</th>\n",
       "      <td>2000-09-09</td>\n",
       "      <td>Sociedad</td>\n",
       "      <td>Santander</td>\n",
       "      <td>2.0</td>\n",
       "      <td>2.0</td>\n",
       "      <td>D</td>\n",
       "      <td>0</td>\n",
       "      <td>0</td>\n",
       "      <td>0</td>\n",
       "      <td>0</td>\n",
       "      <td>...</td>\n",
       "      <td>0</td>\n",
       "      <td>0</td>\n",
       "      <td>0</td>\n",
       "      <td>0</td>\n",
       "      <td>0</td>\n",
       "      <td>0</td>\n",
       "      <td>0.0</td>\n",
       "      <td>0.0</td>\n",
       "      <td>0.0</td>\n",
       "      <td>0.0</td>\n",
       "    </tr>\n",
       "    <tr>\n",
       "      <th>4</th>\n",
       "      <td>2000-09-09</td>\n",
       "      <td>Zaragoza</td>\n",
       "      <td>Espanol</td>\n",
       "      <td>1.0</td>\n",
       "      <td>2.0</td>\n",
       "      <td>A</td>\n",
       "      <td>0</td>\n",
       "      <td>0</td>\n",
       "      <td>0</td>\n",
       "      <td>0</td>\n",
       "      <td>...</td>\n",
       "      <td>0</td>\n",
       "      <td>0</td>\n",
       "      <td>0</td>\n",
       "      <td>0</td>\n",
       "      <td>0</td>\n",
       "      <td>0</td>\n",
       "      <td>0.0</td>\n",
       "      <td>0.0</td>\n",
       "      <td>0.0</td>\n",
       "      <td>0.0</td>\n",
       "    </tr>\n",
       "  </tbody>\n",
       "</table>\n",
       "<p>5 rows × 39 columns</p>\n",
       "</div>"
      ],
      "text/plain": [
       "         Date     HomeTeam    AwayTeam  FTHG  FTAG FTR  HTGS  ATGS  HTGC  \\\n",
       "0  2000-09-09    Barcelona      Malaga   2.0   1.0   H     0     0     0   \n",
       "1  2000-09-09    La Coruna  Ath Bilbao   2.0   0.0   H     0     0     0   \n",
       "2  2000-09-09  Real Madrid    Valencia   2.0   1.0   H     0     0     0   \n",
       "3  2000-09-09     Sociedad   Santander   2.0   2.0   D     0     0     0   \n",
       "4  2000-09-09     Zaragoza     Espanol   1.0   2.0   A     0     0     0   \n",
       "\n",
       "   ATGC     ...      HTLossStreak3  HTLossStreak5 ATWinStreak3 ATWinStreak5  \\\n",
       "0     0     ...                  0              0            0            0   \n",
       "1     0     ...                  0              0            0            0   \n",
       "2     0     ...                  0              0            0            0   \n",
       "3     0     ...                  0              0            0            0   \n",
       "4     0     ...                  0              0            0            0   \n",
       "\n",
       "  ATLossStreak3 ATLossStreak5 HTGD ATGD DiffPts DiffFormPts  \n",
       "0             0             0  0.0  0.0     0.0         0.0  \n",
       "1             0             0  0.0  0.0     0.0         0.0  \n",
       "2             0             0  0.0  0.0     0.0         0.0  \n",
       "3             0             0  0.0  0.0     0.0         0.0  \n",
       "4             0             0  0.0  0.0     0.0         0.0  \n",
       "\n",
       "[5 rows x 39 columns]"
      ]
     },
     "execution_count": 2,
     "metadata": {},
     "output_type": "execute_result"
    }
   ],
   "source": [
    "data = pd.read_csv('laliga/final_dataset.csv', index_col=0)\n",
    "data.head()"
   ]
  },
  {
   "cell_type": "markdown",
   "metadata": {},
   "source": [
    "## Data Exploration"
   ]
  },
  {
   "cell_type": "code",
   "execution_count": 3,
   "metadata": {},
   "outputs": [
    {
     "name": "stdout",
     "output_type": "stream",
     "text": [
      "Total number of matches: 6461\n",
      "Number of features: 38\n",
      "Number of matches won by home team: 3107\n",
      "Win rate of home team: 48.09%\n"
     ]
    }
   ],
   "source": [
    "#what is the win rate for the home team?\n",
    "\n",
    "# Total number of matches.\n",
    "n_matches = data.shape[0]\n",
    "\n",
    "# Calculate number of features. -1 because we are saving one as the target variable (win/lose/draw)\n",
    "n_features = data.shape[1] - 1\n",
    "\n",
    "# Calculate matches won by home team.\n",
    "n_homewins = len(data[data.FTR == 'H'])\n",
    "\n",
    "# Calculate win rate for home team.\n",
    "win_rate = (float(n_homewins) / (n_matches)) * 100\n",
    "\n",
    "# Print the results\n",
    "print(\"Total number of matches: {}\".format(n_matches))\n",
    "print(\"Number of features: {}\".format(n_features))\n",
    "print(\"Number of matches won by home team: {}\".format(n_homewins))\n",
    "print(\"Win rate of home team: {:.2f}%\".format(win_rate))"
   ]
  },
  {
   "cell_type": "markdown",
   "metadata": {},
   "source": [
    "## Preparing the Data"
   ]
  },
  {
   "cell_type": "code",
   "execution_count": 4,
   "metadata": {},
   "outputs": [],
   "source": [
    "# Separate into feature set and target variable\n",
    "#FTR = Full Time Result (H=Home Win, D=Draw, A=Away Win)\n",
    "X_all = data.drop(['FTR', 'FTHG', 'FTAG'], axis=1)\n",
    "y_all = data['FTR']"
   ]
  },
  {
   "cell_type": "code",
   "execution_count": 5,
   "metadata": {},
   "outputs": [
    {
     "name": "stdout",
     "output_type": "stream",
     "text": [
      "Processed feature columns (36 total features):\n",
      "['Date', 'HomeTeam', 'AwayTeam', 'HTGS', 'ATGS', 'HTGC', 'ATGC', 'HTP', 'ATP', 'HM1', 'HM2', 'HM3', 'HM4', 'HM5', 'AM1', 'AM2', 'AM3', 'AM4', 'AM5', 'MW', 'HTFormPtsStr', 'ATFormPtsStr', 'HTFormPts', 'ATFormPts', 'HTWinStreak3', 'HTWinStreak5', 'HTLossStreak3', 'HTLossStreak5', 'ATWinStreak3', 'ATWinStreak5', 'ATLossStreak3', 'ATLossStreak5', 'HTGD', 'ATGD', 'DiffPts', 'DiffFormPts']\n"
     ]
    }
   ],
   "source": [
    "#last 3 wins for both sides\n",
    "X_all.HM1 = X_all.HM1.astype('str')\n",
    "X_all.HM2 = X_all.HM2.astype('str')\n",
    "X_all.HM3 = X_all.HM3.astype('str')\n",
    "X_all.AM1 = X_all.AM1.astype('str')\n",
    "X_all.AM2 = X_all.AM2.astype('str')\n",
    "X_all.AM3 = X_all.AM3.astype('str')\n",
    "\n",
    "#we want continous vars that are integers for our input data, so lets remove any categorical vars\n",
    "def preprocess_features(X):\n",
    "    '''Preprocesses the football data.'''\n",
    "    \n",
    "    # Initialize new output DataFrame\n",
    "    output = pd.DataFrame(index = X.index)\n",
    "\n",
    "    # Investigate each feature column for the data\n",
    "    for col, col_data in X.iteritems():\n",
    "\n",
    "        # If data type is categorical, convert to dummy variables\n",
    "        if col_data.dtype == object:\n",
    "            col_data = col_data.astype('category').cat.codes\n",
    "            col_data.rename(col, inplace=True)\n",
    "                    \n",
    "        # Collect the revised columns\n",
    "        output = output.join(col_data)\n",
    "    \n",
    "    return output\n",
    "\n",
    "X_all = preprocess_features(X_all)\n",
    "print(\"Processed feature columns ({} total features):\\n{}\".format(len(X_all.columns), list(X_all.columns)))"
   ]
  },
  {
   "cell_type": "code",
   "execution_count": 6,
   "metadata": {},
   "outputs": [],
   "source": [
    "from sklearn.preprocessing import scale\n",
    "\n",
    "X = scale(X_all)\n",
    "X = pd.DataFrame(X, columns=X_all.columns)"
   ]
  },
  {
   "cell_type": "code",
   "execution_count": 7,
   "metadata": {},
   "outputs": [
    {
     "name": "stdout",
     "output_type": "stream",
     "text": [
      "Feature values:\n"
     ]
    },
    {
     "data": {
      "text/html": [
       "<div>\n",
       "<style>\n",
       "    .dataframe thead tr:only-child th {\n",
       "        text-align: right;\n",
       "    }\n",
       "\n",
       "    .dataframe thead th {\n",
       "        text-align: left;\n",
       "    }\n",
       "\n",
       "    .dataframe tbody tr th {\n",
       "        vertical-align: top;\n",
       "    }\n",
       "</style>\n",
       "<table border=\"1\" class=\"dataframe\">\n",
       "  <thead>\n",
       "    <tr style=\"text-align: right;\">\n",
       "      <th></th>\n",
       "      <th>Date</th>\n",
       "      <th>HomeTeam</th>\n",
       "      <th>AwayTeam</th>\n",
       "      <th>HTGS</th>\n",
       "      <th>ATGS</th>\n",
       "      <th>HTGC</th>\n",
       "      <th>ATGC</th>\n",
       "      <th>HTP</th>\n",
       "      <th>ATP</th>\n",
       "      <th>HM1</th>\n",
       "      <th>...</th>\n",
       "      <th>HTLossStreak3</th>\n",
       "      <th>HTLossStreak5</th>\n",
       "      <th>ATWinStreak3</th>\n",
       "      <th>ATWinStreak5</th>\n",
       "      <th>ATLossStreak3</th>\n",
       "      <th>ATLossStreak5</th>\n",
       "      <th>HTGD</th>\n",
       "      <th>ATGD</th>\n",
       "      <th>DiffPts</th>\n",
       "      <th>DiffFormPts</th>\n",
       "    </tr>\n",
       "  </thead>\n",
       "  <tbody>\n",
       "    <tr>\n",
       "      <th>0</th>\n",
       "      <td>0</td>\n",
       "      <td>5</td>\n",
       "      <td>21</td>\n",
       "      <td>0</td>\n",
       "      <td>0</td>\n",
       "      <td>0</td>\n",
       "      <td>0</td>\n",
       "      <td>0.0</td>\n",
       "      <td>0.0</td>\n",
       "      <td>2</td>\n",
       "      <td>...</td>\n",
       "      <td>0</td>\n",
       "      <td>0</td>\n",
       "      <td>0</td>\n",
       "      <td>0</td>\n",
       "      <td>0</td>\n",
       "      <td>0</td>\n",
       "      <td>0.0</td>\n",
       "      <td>0.0</td>\n",
       "      <td>0.0</td>\n",
       "      <td>0.0</td>\n",
       "    </tr>\n",
       "    <tr>\n",
       "      <th>1</th>\n",
       "      <td>0</td>\n",
       "      <td>17</td>\n",
       "      <td>3</td>\n",
       "      <td>0</td>\n",
       "      <td>0</td>\n",
       "      <td>0</td>\n",
       "      <td>0</td>\n",
       "      <td>0.0</td>\n",
       "      <td>0.0</td>\n",
       "      <td>2</td>\n",
       "      <td>...</td>\n",
       "      <td>0</td>\n",
       "      <td>0</td>\n",
       "      <td>0</td>\n",
       "      <td>0</td>\n",
       "      <td>0</td>\n",
       "      <td>0</td>\n",
       "      <td>0.0</td>\n",
       "      <td>0.0</td>\n",
       "      <td>0.0</td>\n",
       "      <td>0.0</td>\n",
       "    </tr>\n",
       "    <tr>\n",
       "      <th>2</th>\n",
       "      <td>0</td>\n",
       "      <td>27</td>\n",
       "      <td>34</td>\n",
       "      <td>0</td>\n",
       "      <td>0</td>\n",
       "      <td>0</td>\n",
       "      <td>0</td>\n",
       "      <td>0.0</td>\n",
       "      <td>0.0</td>\n",
       "      <td>2</td>\n",
       "      <td>...</td>\n",
       "      <td>0</td>\n",
       "      <td>0</td>\n",
       "      <td>0</td>\n",
       "      <td>0</td>\n",
       "      <td>0</td>\n",
       "      <td>0</td>\n",
       "      <td>0.0</td>\n",
       "      <td>0.0</td>\n",
       "      <td>0.0</td>\n",
       "      <td>0.0</td>\n",
       "    </tr>\n",
       "    <tr>\n",
       "      <th>3</th>\n",
       "      <td>0</td>\n",
       "      <td>31</td>\n",
       "      <td>29</td>\n",
       "      <td>0</td>\n",
       "      <td>0</td>\n",
       "      <td>0</td>\n",
       "      <td>0</td>\n",
       "      <td>0.0</td>\n",
       "      <td>0.0</td>\n",
       "      <td>2</td>\n",
       "      <td>...</td>\n",
       "      <td>0</td>\n",
       "      <td>0</td>\n",
       "      <td>0</td>\n",
       "      <td>0</td>\n",
       "      <td>0</td>\n",
       "      <td>0</td>\n",
       "      <td>0.0</td>\n",
       "      <td>0.0</td>\n",
       "      <td>0.0</td>\n",
       "      <td>0.0</td>\n",
       "    </tr>\n",
       "    <tr>\n",
       "      <th>4</th>\n",
       "      <td>0</td>\n",
       "      <td>39</td>\n",
       "      <td>12</td>\n",
       "      <td>0</td>\n",
       "      <td>0</td>\n",
       "      <td>0</td>\n",
       "      <td>0</td>\n",
       "      <td>0.0</td>\n",
       "      <td>0.0</td>\n",
       "      <td>2</td>\n",
       "      <td>...</td>\n",
       "      <td>0</td>\n",
       "      <td>0</td>\n",
       "      <td>0</td>\n",
       "      <td>0</td>\n",
       "      <td>0</td>\n",
       "      <td>0</td>\n",
       "      <td>0.0</td>\n",
       "      <td>0.0</td>\n",
       "      <td>0.0</td>\n",
       "      <td>0.0</td>\n",
       "    </tr>\n",
       "  </tbody>\n",
       "</table>\n",
       "<p>5 rows × 36 columns</p>\n",
       "</div>"
      ],
      "text/plain": [
       "   Date  HomeTeam  AwayTeam  HTGS  ATGS  HTGC  ATGC  HTP  ATP  HM1  \\\n",
       "0     0         5        21     0     0     0     0  0.0  0.0    2   \n",
       "1     0        17         3     0     0     0     0  0.0  0.0    2   \n",
       "2     0        27        34     0     0     0     0  0.0  0.0    2   \n",
       "3     0        31        29     0     0     0     0  0.0  0.0    2   \n",
       "4     0        39        12     0     0     0     0  0.0  0.0    2   \n",
       "\n",
       "      ...       HTLossStreak3  HTLossStreak5  ATWinStreak3  ATWinStreak5  \\\n",
       "0     ...                   0              0             0             0   \n",
       "1     ...                   0              0             0             0   \n",
       "2     ...                   0              0             0             0   \n",
       "3     ...                   0              0             0             0   \n",
       "4     ...                   0              0             0             0   \n",
       "\n",
       "   ATLossStreak3  ATLossStreak5  HTGD  ATGD  DiffPts  DiffFormPts  \n",
       "0              0              0   0.0   0.0      0.0          0.0  \n",
       "1              0              0   0.0   0.0      0.0          0.0  \n",
       "2              0              0   0.0   0.0      0.0          0.0  \n",
       "3              0              0   0.0   0.0      0.0          0.0  \n",
       "4              0              0   0.0   0.0      0.0          0.0  \n",
       "\n",
       "[5 rows x 36 columns]"
      ]
     },
     "metadata": {},
     "output_type": "display_data"
    }
   ],
   "source": [
    "# Show the feature information by printing the first five rows\n",
    "print(\"Feature values:\")\n",
    "display(X_all.head())"
   ]
  },
  {
   "cell_type": "code",
   "execution_count": 8,
   "metadata": {},
   "outputs": [],
   "source": [
    "X_elclasico = X_all.tail(1)\n",
    "X_all.drop(X_all.tail(1).index, inplace=True)\n",
    "y_all.drop(y_all.tail(1).index, inplace=True)"
   ]
  },
  {
   "cell_type": "code",
   "execution_count": 9,
   "metadata": {},
   "outputs": [],
   "source": [
    "from sklearn.model_selection import train_test_split\n",
    "\n",
    "# Shuffle and split the dataset into training and testing set.\n",
    "X_train, X_test, y_train, y_test = train_test_split(X_all, y_all, test_size = 50, stratify = y_all)"
   ]
  },
  {
   "cell_type": "markdown",
   "metadata": {},
   "source": [
    "## Training and Evaluating Models"
   ]
  },
  {
   "cell_type": "code",
   "execution_count": 10,
   "metadata": {},
   "outputs": [],
   "source": [
    "#for measuring training time\n",
    "from time import time \n",
    "# F1 score (also F-score or F-measure) is a measure of a test's accuracy. \n",
    "#It considers both the precision p and the recall r of the test to compute \n",
    "#the score: p is the number of correct positive results divided by the number of \n",
    "#all positive results, and r is the number of correct positive results divided by \n",
    "#the number of positive results that should have been returned. The F1 score can be \n",
    "#interpreted as a weighted average of the precision and recall, where an F1 score \n",
    "#reaches its best value at 1 and worst at 0.\n",
    "from sklearn.metrics import f1_score\n",
    "\n",
    "def train_classifier(clf, X_train, y_train):\n",
    "    ''' Fits a classifier to the training data. '''\n",
    "    \n",
    "    # Start the clock, train the classifier, then stop the clock\n",
    "    start = time()\n",
    "    clf.fit(X_train, y_train)\n",
    "    end = time()\n",
    "    \n",
    "    # Print the results\n",
    "    print(\"Trained model in {:.4f} seconds\".format(end - start))\n",
    "\n",
    "    \n",
    "def predict_labels(clf, features, target):\n",
    "    ''' Makes predictions using a fit classifier based on F1 score. '''\n",
    "    \n",
    "    # Start the clock, make predictions, then stop the clock\n",
    "    start = time()\n",
    "    y_pred = clf.predict(features)\n",
    "    \n",
    "    end = time()\n",
    "    # Print and return results\n",
    "    print(\"Made predictions in {:.4f} seconds.\".format(end - start))\n",
    "    \n",
    "    return f1_score(target, y_pred, average=None), sum(target == y_pred) / float(len(y_pred))\n",
    "\n",
    "\n",
    "def train_predict(clf, X_train, y_train, X_test, y_test):\n",
    "    ''' Train and predict using a classifer based on F1 score. '''\n",
    "    \n",
    "    # Indicate the classifier and the training set size\n",
    "    print(\"Training a {} using a training set size of {}. . .\".format(clf.__class__.__name__, len(X_train)))\n",
    "    \n",
    "    # Train the classifier\n",
    "    train_classifier(clf, X_train, y_train)\n",
    "    \n",
    "    # Print the results of prediction for both training and testing\n",
    "    f1, acc = predict_labels(clf, X_train, y_train)\n",
    "    print(f1, acc)\n",
    "    print(\"F1 score and accuracy score for training set: {} , {}.\".format(f1 , acc))\n",
    "    \n",
    "    f1, acc = predict_labels(clf, X_test, y_test)\n",
    "    print(\"F1 score and accuracy score for test set: {} , {}.\".format(f1 , acc))"
   ]
  },
  {
   "cell_type": "code",
   "execution_count": 11,
   "metadata": {},
   "outputs": [
    {
     "name": "stdout",
     "output_type": "stream",
     "text": [
      "Training a SVC using a training set size of 6410. . .\n",
      "Trained model in 8.9746 seconds\n",
      "Made predictions in 5.1612 seconds.\n",
      "[0.99800285 0.99776857 0.99773389] 0.9978159126365055\n",
      "F1 score and accuracy score for training set: [0.99800285 0.99776857 0.99773389] , 0.9978159126365055.\n",
      "Made predictions in 0.0399 seconds.\n",
      "F1 score and accuracy score for test set: [0.         0.15384615 0.65753425] , 0.5.\n",
      "\n",
      "Training a AdaBoostClassifier using a training set size of 6410. . .\n"
     ]
    },
    {
     "name": "stderr",
     "output_type": "stream",
     "text": [
      "/usr/local/lib/python3.5/dist-packages/sklearn/metrics/classification.py:1135: UndefinedMetricWarning: F-score is ill-defined and being set to 0.0 in labels with no predicted samples.\n",
      "  'precision', 'predicted', average, warn_for)\n"
     ]
    },
    {
     "name": "stdout",
     "output_type": "stream",
     "text": [
      "Trained model in 17.6869 seconds\n",
      "Made predictions in 2.4721 seconds.\n",
      "[0.47115385 0.26885246 0.69266358] 0.5681747269890796\n",
      "F1 score and accuracy score for training set: [0.47115385 0.26885246 0.69266358] , 0.5681747269890796.\n",
      "Made predictions in 0.1278 seconds.\n",
      "F1 score and accuracy score for test set: [0.32       0.         0.60714286] , 0.42.\n"
     ]
    }
   ],
   "source": [
    "from sklearn.ensemble import AdaBoostClassifier\n",
    "clf_A = SVC()\n",
    "clf_B = AdaBoostClassifier(n_estimators=1000)\n",
    "train_predict(clf_A, X_train, y_train, X_test, y_test)\n",
    "print()\n",
    "train_predict(clf_B, X_train, y_train, X_test, y_test)\n",
    "# print()\n",
    "# train_predict(clf_C, X_train, y_train, X_test, y_test)\n",
    "# print()"
   ]
  },
  {
   "cell_type": "code",
   "execution_count": 12,
   "metadata": {},
   "outputs": [
    {
     "name": "stdout",
     "output_type": "stream",
     "text": [
      "             precision    recall  f1-score   support\n",
      "\n",
      "          A       0.36      0.29      0.32        14\n",
      "          D       0.00      0.00      0.00        12\n",
      "          H       0.53      0.71      0.61        24\n",
      "\n",
      "avg / total       0.36      0.42      0.38        50\n",
      "\n"
     ]
    }
   ],
   "source": [
    "from sklearn.metrics import classification_report\n",
    "print(classification_report(y_test, clf_B.predict(X_test)))"
   ]
  },
  {
   "cell_type": "code",
   "execution_count": 13,
   "metadata": {},
   "outputs": [
    {
     "data": {
      "text/plain": [
       "array(['D'], dtype=object)"
      ]
     },
     "execution_count": 13,
     "metadata": {},
     "output_type": "execute_result"
    }
   ],
   "source": [
    "clf_B.predict(X_elclasico)"
   ]
  },
  {
   "cell_type": "code",
   "execution_count": 14,
   "metadata": {
    "scrolled": false
   },
   "outputs": [
    {
     "name": "stdout",
     "output_type": "stream",
     "text": [
      "Fitting 3 folds for each of 28 candidates, totalling 84 fits\n",
      "[CV] min_samples_split=5, n_estimators=10 ............................\n",
      "[CV] min_samples_split=5, n_estimators=10 ............................\n",
      "[CV] min_samples_split=5, n_estimators=10 ............................\n",
      "[CV] min_samples_split=5, n_estimators=30 ............................\n",
      "[CV]  min_samples_split=5, n_estimators=10, score=0.46186242395882077, total=   0.3s\n",
      "[CV]  min_samples_split=5, n_estimators=10, score=0.46725912067352665, total=   0.3s\n",
      "[CV]  min_samples_split=5, n_estimators=10, score=0.46557377049180326, total=   0.3s\n",
      "[CV] min_samples_split=5, n_estimators=30 ............................\n",
      "[CV] min_samples_split=5, n_estimators=30 ............................\n",
      "[CV] min_samples_split=5, n_estimators=50 ............................\n",
      "[CV]  min_samples_split=5, n_estimators=30, score=0.49579045837231056, total=   0.7s\n",
      "[CV] min_samples_split=5, n_estimators=50 ............................\n",
      "[CV]  min_samples_split=5, n_estimators=30, score=0.48993916705662144, total=   0.6s\n",
      "[CV] min_samples_split=5, n_estimators=50 ............................\n",
      "[CV]  min_samples_split=5, n_estimators=30, score=0.4847775175644028, total=   0.6s\n",
      "[CV] min_samples_split=5, n_estimators=100 ...........................\n",
      "[CV]  min_samples_split=5, n_estimators=50, score=0.49345182413470534, total=   1.0s\n",
      "[CV] min_samples_split=5, n_estimators=100 ...........................\n",
      "[CV]  min_samples_split=5, n_estimators=50, score=0.5095928872250819, total=   1.0s\n",
      "[CV] min_samples_split=5, n_estimators=100 ...........................\n",
      "[CV]  min_samples_split=5, n_estimators=50, score=0.482903981264637, total=   1.0s\n",
      "[CV] min_samples_split=5, n_estimators=200 ...........................\n",
      "[CV]  min_samples_split=5, n_estimators=100, score=0.5121608980355472, total=   1.9s\n",
      "[CV] min_samples_split=5, n_estimators=200 ...........................\n",
      "[CV]  min_samples_split=5, n_estimators=100, score=0.5091249415067852, total=   2.0s\n",
      "[CV] min_samples_split=5, n_estimators=200 ...........................\n",
      "[CV]  min_samples_split=5, n_estimators=100, score=0.5002341920374708, total=   1.9s\n",
      "[CV] min_samples_split=5, n_estimators=500 ...........................\n",
      "[CV]  min_samples_split=5, n_estimators=200, score=0.5163704396632367, total=   3.7s\n",
      "[CV] min_samples_split=5, n_estimators=500 ...........................\n",
      "[CV]  min_samples_split=5, n_estimators=200, score=0.5105287786616752, total=   4.0s\n",
      "[CV] min_samples_split=5, n_estimators=500 ...........................\n",
      "[CV]  min_samples_split=5, n_estimators=200, score=0.5081967213114754, total=   3.9s\n",
      "[CV] min_samples_split=5, n_estimators=1000 ..........................\n",
      "[CV]  min_samples_split=5, n_estimators=500, score=0.5074836295603368, total=   9.0s\n",
      "[CV] min_samples_split=5, n_estimators=1000 ..........................\n",
      "[CV]  min_samples_split=5, n_estimators=500, score=0.5091249415067852, total=   9.3s\n",
      "[CV] min_samples_split=5, n_estimators=1000 ..........................\n",
      "[CV]  min_samples_split=5, n_estimators=500, score=0.5039812646370023, total=   9.6s\n",
      "[CV] min_samples_split=10, n_estimators=10 ...........................\n",
      "[CV]  min_samples_split=10, n_estimators=10, score=0.4630495790458372, total=   0.2s\n",
      "[CV] min_samples_split=10, n_estimators=10 ...........................\n",
      "[CV]  min_samples_split=10, n_estimators=10, score=0.48993916705662144, total=   0.3s\n",
      "[CV] min_samples_split=10, n_estimators=10 ...........................\n",
      "[CV]  min_samples_split=10, n_estimators=10, score=0.4594847775175644, total=   0.2s\n",
      "[CV] min_samples_split=10, n_estimators=30 ...........................\n",
      "[CV]  min_samples_split=10, n_estimators=30, score=0.49953227315247895, total=   0.5s\n",
      "[CV] min_samples_split=10, n_estimators=30 ...........................\n",
      "[CV]  min_samples_split=10, n_estimators=30, score=0.5035095928872251, total=   0.6s\n",
      "[CV] min_samples_split=10, n_estimators=30 ...........................\n",
      "[CV]  min_samples_split=10, n_estimators=30, score=0.5114754098360655, total=   0.5s\n",
      "[CV] min_samples_split=10, n_estimators=50 ...........................\n"
     ]
    },
    {
     "name": "stderr",
     "output_type": "stream",
     "text": [
      "[Parallel(n_jobs=4)]: Done  24 tasks      | elapsed:   20.5s\n"
     ]
    },
    {
     "name": "stdout",
     "output_type": "stream",
     "text": [
      "[CV]  min_samples_split=10, n_estimators=50, score=0.509822263797942, total=   0.8s\n",
      "[CV] min_samples_split=10, n_estimators=50 ...........................\n",
      "[CV]  min_samples_split=10, n_estimators=50, score=0.5025737014506317, total=   0.8s\n",
      "[CV] min_samples_split=10, n_estimators=50 ...........................\n",
      "[CV]  min_samples_split=10, n_estimators=50, score=0.4927400468384075, total=   0.8s\n",
      "[CV] min_samples_split=10, n_estimators=100 ..........................\n",
      "[CV]  min_samples_split=10, n_estimators=100, score=0.5046772684752104, total=   1.7s\n",
      "[CV] min_samples_split=10, n_estimators=100 ..........................\n",
      "[CV]  min_samples_split=10, n_estimators=100, score=0.5081890500701919, total=   1.7s\n",
      "[CV] min_samples_split=10, n_estimators=100 ..........................\n",
      "[CV]  min_samples_split=10, n_estimators=100, score=0.506791569086651, total=   1.7s\n",
      "[CV] min_samples_split=10, n_estimators=200 ..........................\n",
      "[CV]  min_samples_split=5, n_estimators=1000, score=0.5070159027128157, total=  19.6s\n",
      "[CV] min_samples_split=10, n_estimators=200 ..........................\n",
      "[CV]  min_samples_split=10, n_estimators=200, score=0.5135640785781104, total=   3.3s\n",
      "[CV] min_samples_split=10, n_estimators=200 ..........................\n",
      "[CV]  min_samples_split=10, n_estimators=200, score=0.5044454843238184, total=   3.5s\n",
      "[CV] min_samples_split=10, n_estimators=500 ..........................\n",
      "[CV]  min_samples_split=5, n_estimators=1000, score=0.5058493214787084, total=  20.4s\n",
      "[CV] min_samples_split=10, n_estimators=500 ..........................\n",
      "[CV]  min_samples_split=10, n_estimators=200, score=0.506791569086651, total=   3.3s\n",
      "[CV] min_samples_split=10, n_estimators=500 ..........................\n",
      "[CV]  min_samples_split=5, n_estimators=1000, score=0.49836065573770494, total=  20.8s\n",
      "[CV] min_samples_split=10, n_estimators=1000 .........................\n",
      "[CV]  min_samples_split=10, n_estimators=500, score=0.5149672591206735, total=   8.4s\n",
      "[CV] min_samples_split=10, n_estimators=1000 .........................\n",
      "[CV]  min_samples_split=10, n_estimators=500, score=0.507728337236534, total=   8.3s\n",
      "[CV] min_samples_split=10, n_estimators=1000 .........................\n",
      "[CV]  min_samples_split=10, n_estimators=500, score=0.515208235844642, total=   9.5s\n",
      "[CV] min_samples_split=20, n_estimators=10 ...........................\n",
      "[CV]  min_samples_split=20, n_estimators=10, score=0.49345182413470534, total=   0.3s\n",
      "[CV] min_samples_split=20, n_estimators=10 ...........................\n",
      "[CV]  min_samples_split=20, n_estimators=10, score=0.4918109499298081, total=   0.3s\n",
      "[CV] min_samples_split=20, n_estimators=10 ...........................\n",
      "[CV]  min_samples_split=20, n_estimators=10, score=0.4604215456674473, total=   0.2s\n",
      "[CV] min_samples_split=20, n_estimators=30 ...........................\n",
      "[CV]  min_samples_split=20, n_estimators=30, score=0.5144995322731525, total=   0.5s\n",
      "[CV] min_samples_split=20, n_estimators=30 ...........................\n",
      "[CV]  min_samples_split=20, n_estimators=30, score=0.5081890500701919, total=   0.5s\n",
      "[CV] min_samples_split=20, n_estimators=30 ...........................\n",
      "[CV]  min_samples_split=20, n_estimators=30, score=0.5058548009367682, total=   0.7s\n",
      "[CV] min_samples_split=20, n_estimators=50 ...........................\n",
      "[CV]  min_samples_split=20, n_estimators=50, score=0.5074836295603368, total=   0.9s\n",
      "[CV] min_samples_split=20, n_estimators=50 ...........................\n",
      "[CV]  min_samples_split=20, n_estimators=50, score=0.5053813757604118, total=   1.1s\n",
      "[CV] min_samples_split=20, n_estimators=50 ...........................\n",
      "[CV]  min_samples_split=20, n_estimators=50, score=0.502576112412178, total=   1.1s\n",
      "[CV] min_samples_split=20, n_estimators=100 ..........................\n",
      "[CV]  min_samples_split=20, n_estimators=100, score=0.5191768007483629, total=   2.0s\n",
      "[CV] min_samples_split=20, n_estimators=100 ..........................\n",
      "[CV]  min_samples_split=20, n_estimators=100, score=0.5133364529714554, total=   1.9s\n",
      "[CV] min_samples_split=20, n_estimators=100 ..........................\n",
      "[CV]  min_samples_split=10, n_estimators=1000, score=0.520112254443405, total=  17.3s\n",
      "[CV] min_samples_split=20, n_estimators=200 ..........................\n",
      "[CV]  min_samples_split=20, n_estimators=100, score=0.5105386416861827, total=   1.6s\n",
      "[CV] min_samples_split=20, n_estimators=200 ..........................\n",
      "[CV]  min_samples_split=20, n_estimators=200, score=0.5163704396632367, total=   3.2s\n",
      "[CV] min_samples_split=20, n_estimators=200 ..........................\n",
      "[CV]  min_samples_split=10, n_estimators=1000, score=0.5133364529714554, total=  18.5s\n",
      "[CV] min_samples_split=20, n_estimators=500 ..........................\n",
      "[CV]  min_samples_split=20, n_estimators=200, score=0.5133364529714554, total=   3.3s\n",
      "[CV] min_samples_split=20, n_estimators=500 ..........................\n",
      "[CV]  min_samples_split=10, n_estimators=1000, score=0.5096018735362998, total=  18.2s\n",
      "[CV] min_samples_split=20, n_estimators=500 ..........................\n",
      "[CV]  min_samples_split=20, n_estimators=200, score=0.5142857142857142, total=   3.4s\n",
      "[CV] min_samples_split=20, n_estimators=1000 .........................\n",
      "[CV]  min_samples_split=20, n_estimators=500, score=0.5144995322731525, total=   7.8s\n",
      "[CV] min_samples_split=20, n_estimators=1000 .........................\n",
      "[CV]  min_samples_split=20, n_estimators=500, score=0.5128685072531586, total=   8.7s\n",
      "[CV] min_samples_split=20, n_estimators=1000 .........................\n",
      "[CV]  min_samples_split=20, n_estimators=500, score=0.5091334894613583, total=   8.2s\n",
      "[CV] min_samples_split=50, n_estimators=10 ...........................\n",
      "[CV]  min_samples_split=50, n_estimators=10, score=0.5112254443405051, total=   0.2s\n",
      "[CV] min_samples_split=50, n_estimators=10 ...........................\n",
      "[CV]  min_samples_split=50, n_estimators=10, score=0.5067852129153019, total=   0.2s\n",
      "[CV] min_samples_split=50, n_estimators=10 ...........................\n",
      "[CV]  min_samples_split=50, n_estimators=10, score=0.4885245901639344, total=   0.3s\n",
      "[CV] min_samples_split=50, n_estimators=30 ...........................\n",
      "[CV]  min_samples_split=50, n_estimators=30, score=0.5060804490177736, total=   0.4s\n",
      "[CV] min_samples_split=50, n_estimators=30 ...........................\n",
      "[CV]  min_samples_split=50, n_estimators=30, score=0.5086569957884886, total=   0.5s\n",
      "[CV] min_samples_split=50, n_estimators=30 ...........................\n",
      "[CV]  min_samples_split=50, n_estimators=30, score=0.5049180327868853, total=   0.5s\n",
      "[CV] min_samples_split=50, n_estimators=50 ...........................\n",
      "[CV]  min_samples_split=50, n_estimators=50, score=0.5130963517305893, total=   0.7s\n",
      "[CV] min_samples_split=50, n_estimators=50 ...........................\n",
      "[CV]  min_samples_split=50, n_estimators=50, score=0.5100608329433786, total=   0.7s\n",
      "[CV] min_samples_split=50, n_estimators=50 ...........................\n",
      "[CV]  min_samples_split=50, n_estimators=50, score=0.5072599531615926, total=   0.7s\n",
      "[CV] min_samples_split=50, n_estimators=100 ..........................\n",
      "[CV]  min_samples_split=50, n_estimators=100, score=0.5173058933582788, total=   1.4s\n",
      "[CV] min_samples_split=50, n_estimators=100 ..........................\n",
      "[CV]  min_samples_split=50, n_estimators=100, score=0.5161441272812354, total=   1.5s\n",
      "[CV] min_samples_split=50, n_estimators=100 ..........................\n",
      "[CV]  min_samples_split=50, n_estimators=100, score=0.5124121779859485, total=   1.4s\n",
      "[CV] min_samples_split=50, n_estimators=200 ..........................\n",
      "[CV]  min_samples_split=20, n_estimators=1000, score=0.5182413470533208, total=  17.4s\n",
      "[CV] min_samples_split=50, n_estimators=200 ..........................\n",
      "[CV]  min_samples_split=50, n_estimators=200, score=0.5191768007483629, total=   3.0s\n",
      "[CV] min_samples_split=50, n_estimators=200 ..........................\n",
      "[CV]  min_samples_split=50, n_estimators=200, score=0.5156761815629387, total=   3.2s\n",
      "[CV] min_samples_split=50, n_estimators=500 ..........................\n",
      "[CV]  min_samples_split=20, n_estimators=1000, score=0.513804398689752, total=  17.2s\n",
      "[CV] min_samples_split=50, n_estimators=500 ..........................\n",
      "[CV]  min_samples_split=50, n_estimators=200, score=0.5105386416861827, total=   3.2s\n"
     ]
    },
    {
     "name": "stdout",
     "output_type": "stream",
     "text": [
      "[CV] min_samples_split=50, n_estimators=500 ..........................\n",
      "[CV]  min_samples_split=20, n_estimators=1000, score=0.5091334894613583, total=  17.4s\n",
      "[CV] min_samples_split=50, n_estimators=1000 .........................\n",
      "[CV]  min_samples_split=50, n_estimators=500, score=0.5191768007483629, total=   7.0s\n",
      "[CV] min_samples_split=50, n_estimators=1000 .........................\n",
      "[CV]  min_samples_split=50, n_estimators=500, score=0.516612072999532, total=   7.2s\n",
      "[CV] min_samples_split=50, n_estimators=1000 .........................\n",
      "[CV]  min_samples_split=50, n_estimators=500, score=0.5166276346604215, total=   6.7s\n",
      "[CV]  min_samples_split=50, n_estimators=1000, score=0.5191768007483629, total=  13.0s\n",
      "[CV]  min_samples_split=50, n_estimators=1000, score=0.5175479644361254, total=  12.3s\n",
      "[CV]  min_samples_split=50, n_estimators=1000, score=0.511943793911007, total=  10.6s\n"
     ]
    },
    {
     "name": "stderr",
     "output_type": "stream",
     "text": [
      "[Parallel(n_jobs=4)]: Done  84 out of  84 | elapsed:  1.8min finished\n"
     ]
    },
    {
     "name": "stdout",
     "output_type": "stream",
     "text": [
      "RandomForestClassifier(bootstrap=True, class_weight=None, criterion='gini',\n",
      "            max_depth=None, max_features='auto', max_leaf_nodes=None,\n",
      "            min_impurity_decrease=0.0, min_impurity_split=None,\n",
      "            min_samples_leaf=1, min_samples_split=50,\n",
      "            min_weight_fraction_leaf=0.0, n_estimators=500, n_jobs=1,\n",
      "            oob_score=False, random_state=None, verbose=0,\n",
      "            warm_start=False)\n"
     ]
    }
   ],
   "source": [
    "from sklearn.model_selection import GridSearchCV\n",
    "\n",
    "param_grid = {'n_estimators': [10, 30, 50, 100, 200, 500, 1000], 'min_samples_split': [5, 10, 20, 50]}\n",
    "\n",
    "grid_search = GridSearchCV(RandomForestClassifier(), param_grid, scoring='f1_micro', cv=3, verbose=3, n_jobs=4)\n",
    "\n",
    "grid_search = grid_search.fit(X_train, y_train)\n",
    "\n",
    "print(grid_search.best_estimator_)"
   ]
  },
  {
   "cell_type": "code",
   "execution_count": 15,
   "metadata": {},
   "outputs": [
    {
     "name": "stdout",
     "output_type": "stream",
     "text": [
      "             precision    recall  f1-score   support\n",
      "\n",
      "          A       0.70      0.50      0.58        14\n",
      "          D       0.00      0.00      0.00        12\n",
      "          H       0.56      0.92      0.70        24\n",
      "\n",
      "avg / total       0.47      0.58      0.50        50\n",
      "\n"
     ]
    }
   ],
   "source": [
    "print(classification_report(y_test, grid_search.predict(X_test)))"
   ]
  },
  {
   "cell_type": "code",
   "execution_count": 16,
   "metadata": {},
   "outputs": [
    {
     "data": {
      "text/plain": [
       "array(['A'], dtype=object)"
      ]
     },
     "execution_count": 16,
     "metadata": {},
     "output_type": "execute_result"
    }
   ],
   "source": [
    "grid_search.predict(X_elclasico)"
   ]
  },
  {
   "cell_type": "markdown",
   "metadata": {},
   "source": [
    "## Conclusion\n",
    "\n",
    "As you can see, the RandomForest has predicted that the away team (FC Barcelona) will win the game and its prediction precision is 70%.\n",
    "\n",
    "P.S. At the end of the game, FC Barcelona won the el clasico 3-0. Cheers!"
   ]
  },
  {
   "cell_type": "code",
   "execution_count": 17,
   "metadata": {},
   "outputs": [
    {
     "data": {
      "text/plain": [
       "Date             0.056228\n",
       "HomeTeam         0.037792\n",
       "AwayTeam         0.039829\n",
       "HTGS             0.037842\n",
       "ATGS             0.046626\n",
       "HTGC             0.032473\n",
       "ATGC             0.033631\n",
       "HTP              0.068512\n",
       "ATP              0.071270\n",
       "HM1              0.006281\n",
       "HM2              0.007926\n",
       "HM3              0.009030\n",
       "HM4              0.007860\n",
       "HM5              0.008140\n",
       "AM1              0.006023\n",
       "AM2              0.007929\n",
       "AM3              0.008550\n",
       "AM4              0.008960\n",
       "AM5              0.007436\n",
       "MW               0.028384\n",
       "HTFormPtsStr     0.044564\n",
       "ATFormPtsStr     0.046075\n",
       "HTFormPts        0.026533\n",
       "ATFormPts        0.023747\n",
       "HTWinStreak3     0.002040\n",
       "HTWinStreak5     0.000529\n",
       "HTLossStreak3    0.002517\n",
       "HTLossStreak5    0.000531\n",
       "ATWinStreak3     0.002152\n",
       "ATWinStreak5     0.000998\n",
       "ATLossStreak3    0.002034\n",
       "ATLossStreak5    0.000376\n",
       "HTGD             0.084751\n",
       "ATGD             0.089135\n",
       "DiffPts          0.093636\n",
       "DiffFormPts      0.049660\n",
       "dtype: float64"
      ]
     },
     "execution_count": 17,
     "metadata": {},
     "output_type": "execute_result"
    }
   ],
   "source": [
    "pd.Series(grid_search.best_estimator_.feature_importances_, index=X_all.columns)"
   ]
  },
  {
   "cell_type": "code",
   "execution_count": 18,
   "metadata": {},
   "outputs": [
    {
     "data": {
      "text/plain": [
       "<matplotlib.axes._subplots.AxesSubplot at 0x7f390eaae6d8>"
      ]
     },
     "execution_count": 18,
     "metadata": {},
     "output_type": "execute_result"
    },
    {
     "data": {
      "image/png": "[encoded data removed]",
      "text/plain": [
       "<matplotlib.figure.Figure at 0x7f390eaaeef0>"
      ]
     },
     "metadata": {},
     "output_type": "display_data"
    }
   ],
   "source": [
    "pd.Series(grid_search.best_estimator_.feature_importances_, index=X_all.columns).plot(rot=90, marker='.')"
   ]
  }
 ],
 "metadata": {
  "kernelspec": {
   "display_name": "Python 3",
   "language": "python",
   "name": "python3"
  },
  "language_info": {
   "codemirror_mode": {
    "name": "ipython",
    "version": 3
   },
   "file_extension": ".py",
   "mimetype": "text/x-python",
   "name": "python",
   "nbconvert_exporter": "python",
   "pygments_lexer": "ipython3",
   "version": "3.5.2"
  }
 },
 "nbformat": 4,
 "nbformat_minor": 1
}
